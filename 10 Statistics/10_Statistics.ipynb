{
  "nbformat": 4,
  "nbformat_minor": 0,
  "metadata": {
    "colab": {
      "provenance": [],
      "authorship_tag": "ABX9TyOo5cSipOhLPSEGBtT00egM",
      "include_colab_link": true
    },
    "kernelspec": {
      "name": "python3",
      "display_name": "Python 3"
    },
    "language_info": {
      "name": "python"
    }
  },
  "cells": [
    {
      "cell_type": "markdown",
      "metadata": {
        "id": "view-in-github",
        "colab_type": "text"
      },
      "source": [
        "<a href=\"https://colab.research.google.com/github/igorjoz/machine-learning-course-and-projects/blob/main/10_Statistics.ipynb\" target=\"_parent\"><img src=\"https://colab.research.google.com/assets/colab-badge.svg\" alt=\"Open In Colab\"/></a>"
      ]
    },
    {
      "cell_type": "code",
      "execution_count": null,
      "metadata": {
        "colab": {
          "base_uri": "https://localhost:8080/"
        },
        "id": "xDIAFmYLcYL_",
        "outputId": "32d52785-3b3b-4b41-a7b6-61895fc3315a"
      },
      "outputs": [
        {
          "output_type": "stream",
          "name": "stdout",
          "text": [
            "5.5\n"
          ]
        }
      ],
      "source": [
        "# Average / Mean\n",
        "\n",
        "list_of_numbers = [6, 8, 12, 3, 9, -5]\n",
        "\n",
        "def calculate_mean(list_of_numbers):\n",
        "  sum = 0\n",
        "\n",
        "  for number in list_of_numbers:\n",
        "    sum += number\n",
        "\n",
        "  return sum / len(list_of_numbers)\n",
        "\n",
        "print(calculate_mean(list_of_numbers))"
      ]
    },
    {
      "cell_type": "code",
      "source": [
        "list_of_numbers = [6, 8, 12, 3, 9, -5, 99]\n",
        "list_of_numbers_2 = [6, 8, 12, 3, 9, -5]\n",
        "\n",
        "def calculate_median(list_of_numbers):\n",
        "  list_of_numbers.sort()\n",
        "\n",
        "  if len(list_of_numbers) % 2 == 0:\n",
        "    return (list_of_numbers[len(list_of_numbers) // 2] + list_of_numbers[len(list_of_numbers) // 2 - 1]) / 2\n",
        "  else:\n",
        "    return list_of_numbers[len(list_of_numbers) // 2]\n",
        "\n",
        "print(calculate_median(list_of_numbers))\n",
        "print(calculate_median(list_of_numbers_2))"
      ],
      "metadata": {
        "colab": {
          "base_uri": "https://localhost:8080/"
        },
        "id": "sEf9oMRxedfC",
        "outputId": "cd8c61f0-9368-47b8-debf-be3a88502730"
      },
      "execution_count": null,
      "outputs": [
        {
          "output_type": "stream",
          "name": "stdout",
          "text": [
            "8\n",
            "7.0\n"
          ]
        }
      ]
    },
    {
      "cell_type": "code",
      "source": [
        "#Modalna\n",
        "list_of_numbers = [4, 2, 7, 2, 8, 2, 9, 7, 7]\n",
        "\n",
        "def find_mode(list_of_numbers):\n",
        "  count_occurrence = {i: list_of_numbers.count(i) for i in set(list_of_numbers)}\n",
        "  print(count_occurrence)\n",
        "  mode = [key for value, key  in zip(count_occurrence.values(), count_occurrence.keys()) if value == max(count_occurrence.values())]\n",
        "  return mode\n",
        "\n",
        "print(find_mode(list_of_numbers))\n"
      ],
      "metadata": {
        "colab": {
          "base_uri": "https://localhost:8080/"
        },
        "id": "wKi1cX7AeoOn",
        "outputId": "d1050d5f-fa88-4f5d-8f3e-89dcb4ab2ecd"
      },
      "execution_count": null,
      "outputs": [
        {
          "output_type": "stream",
          "name": "stdout",
          "text": [
            "{2: 3, 4: 1, 7: 3, 8: 1, 9: 1}\n",
            "[2, 7]\n"
          ]
        }
      ]
    },
    {
      "cell_type": "code",
      "source": [
        "#Wariancja\n",
        "import statistics\n",
        "import pandas as pd\n",
        "import numpy as np\n",
        "import matplotlib.pyplot as plt\n",
        "\n",
        "mean_A = 0\n",
        "mean_B = 0\n",
        "\n",
        "def calculate_variance(group):\n",
        "  mean = statistics.mean(group)\n",
        "  variance = sum((x - mean) ** 2 for x in group) / (len(group) - 1)\n",
        "  return variance, mean\n",
        "\n",
        "groupA = [60, 62, 61, 59, 60]\n",
        "groupB = [58, 61, 60, 60, 61]\n",
        "\n",
        "\n",
        "varianceA, mean_A = calculate_variance(groupA)\n",
        "varianceB, mean_B = calculate_variance(groupB)\n",
        "\n",
        "print(f\"Wariancja grupy A {varianceA}\")\n",
        "print(f\"Wariancja grupy B {varianceB}\")\n",
        "\n",
        "print(f\"Odchylenie standardowe grupy A {varianceA ** (1/2)}\")\n",
        "print(f\"Odchylenie standardowe B {varianceB ** 1/2}\")\n",
        "\n",
        "\n",
        "y_values_A = [mean_A] * len(groupA)\n",
        "y_values_B = [mean_B] * len(groupB)\n",
        "\n",
        "\n",
        "# Tworzenie wykresu\n",
        "plt.figure(figsize=(8, 5))\n",
        "x_values = list(range(len(groupA)))\n",
        "\n",
        "# Scatter plot dla wartości grupy A i B\n",
        "plt.scatter(x_values, groupA, color=\"blue\", label=\"Grupa A - Dane rzeczywiste\", marker=\"o\")\n",
        "plt.scatter(x_values, groupB, color=\"red\", label=\"Grupa B - Dane rzeczywiste\", marker=\"s\")\n",
        "\n",
        "# Wykres linii dla średnich\n",
        "plt.plot(x_values, y_values_A, color=\"blue\", linestyle=\"dashed\", label=\"Średnia Grupa A\")\n",
        "plt.plot(x_values, y_values_B, color=\"red\", linestyle=\"dashed\", label=\"Średnia Grupa B\")\n",
        "\n",
        "# Opisy osi i tytuł\n",
        "plt.xlabel(\"Indeks wartości\")\n",
        "plt.ylabel(\"Wartość\")\n",
        "plt.title(\"Średnia i wartości rzeczywiste dla Grup A i B\")\n",
        "\n",
        "# Legenda\n",
        "plt.legend()\n",
        "plt.show()"
      ],
      "metadata": {
        "colab": {
          "base_uri": "https://localhost:8080/",
          "height": 562
        },
        "id": "PxN_ScNGilEY",
        "outputId": "1f6fec6a-b9c4-4074-d0b5-769fe07146b1"
      },
      "execution_count": null,
      "outputs": [
        {
          "output_type": "stream",
          "name": "stdout",
          "text": [
            "Wariancja grupy A 1.3\n",
            "Wariancja grupy B 1.5\n",
            "Odchylenie standardowe grupy A 1.140175425099138\n",
            "Odchylenie standardowe B 0.75\n"
          ]
        },
        {
          "output_type": "display_data",
          "data": {
            "text/plain": [
              "<Figure size 800x500 with 1 Axes>"
            ],
            "image/png": "[encoded data removed]"
          },
          "metadata": {}
        }
      ]
    },
    {
      "cell_type": "code",
      "source": [
        "def correlation(x, y):\n",
        "\n",
        "    #Obliczamy średnią wartość dla zmiennej x i y\n",
        "    n = len(x)\n",
        "    mean_x = sum(x) / n\n",
        "    mean_y = sum(y) / n\n",
        "\n",
        "    #Obliczamy licznik - sumę iloczynów różnic wartości dla zmiennych x i y oraz ich średnich\n",
        "    numenator = 0\n",
        "\n",
        "    for value_x, value_y in zip(x, y):\n",
        "      numenator += (value_x - mean_x) * (value_y - mean_y)\n",
        "\n",
        "    #Obliczamy mianownik - pierwiastek z  iloczynu sumy  kwadratów różnic wartości X od średniej X i  sumy kwadratów różnic wartości Y od średniej Y\n",
        "    denominator_x = 0\n",
        "    denominator_y = 0\n",
        "\n",
        "    for value_x, value_y in zip(x, y):\n",
        "      denominator_x += (value_x - mean_x) ** 2\n",
        "      denominator_y += (value_y - mean_y) ** 2\n",
        "\n",
        "    denominator = (denominator_x * denominator_y  ) ** 0.5\n",
        "\n",
        "    correlation = numenator / denominator\n",
        "    return correlation\n",
        "\n",
        "\n",
        "temperature =     [10, 12, 14, 16, 18, 20, 22, 24, 26]\n",
        "sold_ice_creams = [20, 30, 40, 80, 90, 20, 130, 160, 20]\n",
        "\n",
        "# Obliczenie korelacji\n",
        "r_value = correlation(temperature, sold_ice_creams)\n",
        "print(f\"Współczynnik korelacji: {r_value:.2f}\")"
      ],
      "metadata": {
        "colab": {
          "base_uri": "https://localhost:8080/"
        },
        "id": "w5_029TBilmA",
        "outputId": "9aa564e7-c13f-49ba-9129-5eef774c8ebc"
      },
      "execution_count": null,
      "outputs": [
        {
          "output_type": "stream",
          "name": "stdout",
          "text": [
            "Współczynnik korelacji: 0.44\n"
          ]
        }
      ]
    },
    {
      "cell_type": "code",
      "source": [
        "import statistics\n",
        "import pandas as pd\n",
        "import numpy as np\n",
        "import matplotlib.pyplot as plt\n",
        "\n",
        "np.random.random(42)\n",
        "\n",
        "X = np.linspace(0, 50, 100)\n",
        "\n",
        "noise = np.random.randint(-10, 10, 100)\n",
        "Y = -2 * X + 100 + noise\n",
        "\n",
        "plt.scatter(X, Y)\n",
        "plt.show()"
      ],
      "metadata": {
        "colab": {
          "base_uri": "https://localhost:8080/",
          "height": 430
        },
        "id": "9xm_6kcppS4t",
        "outputId": "ea5bdf96-1d75-43c0-dd56-66f2e4de7247"
      },
      "execution_count": null,
      "outputs": [
        {
          "output_type": "display_data",
          "data": {
            "text/plain": [
              "<Figure size 640x480 with 1 Axes>"
            ],
            "image/png": "[encoded data removed]"
          },
          "metadata": {}
        }
      ]
    },
    {
      "cell_type": "code",
      "source": [
        "#Funkcja wyznaczająca krzywą regresji\n",
        "\n",
        "def regression(x,y):\n",
        "  sum_of_xy = 0\n",
        "  sum_x = 0\n",
        "  sum_y = 0\n",
        "  sum_x_squared = 0\n",
        "  n = len(x)\n",
        "\n",
        "  for x_value, y_value in zip(x,y):\n",
        "    sum_of_xy += x_value * y_value\n",
        "    sum_x += x_value\n",
        "    sum_y += y_value\n",
        "    sum_x_squared += x_value ** 2\n",
        "\n",
        "\n",
        "  a = (n*sum_of_xy - sum_x * sum_y) / (n*sum_x_squared - sum_x ** 2)\n",
        "  b = (sum_y - a * sum_x) / n\n",
        "\n",
        "  return a, b\n",
        "\n",
        "print(regression(X, Y))"
      ],
      "metadata": {
        "colab": {
          "base_uri": "https://localhost:8080/"
        },
        "id": "l83zXs0Dsfpv",
        "outputId": "9a32f58d-663c-4bee-d957-5bdad19f5602"
      },
      "execution_count": null,
      "outputs": [
        {
          "output_type": "stream",
          "name": "stdout",
          "text": [
            "(-2.0178455445544503, 98.80613861386126)\n"
          ]
        }
      ]
    },
    {
      "cell_type": "code",
      "source": [
        "from sklearn.linear_model import LinearRegression\n",
        "import numpy as np\n",
        "\n",
        "X_array = np.array(X).reshape(-1, 1)\n",
        "# print(np.array(X))\n",
        "# print(X_array)\n",
        "Y_array = np.array(Y)\n",
        "\n",
        "model = LinearRegression()\n",
        "model.fit(X_array, Y_array)\n",
        "\n",
        "a = model.coef_[0]\n",
        "b = model.intercept_\n",
        "\n",
        "print(f\"Współczynnik kierunkowy: {a}\")\n",
        "print(f\"Przesunięcie: {b}\")"
      ],
      "metadata": {
        "colab": {
          "base_uri": "https://localhost:8080/"
        },
        "id": "jpTu1-1XuDWI",
        "outputId": "955d957b-f2af-42dc-d13d-d2ba1bed6ed6"
      },
      "execution_count": null,
      "outputs": [
        {
          "output_type": "stream",
          "name": "stdout",
          "text": [
            "Współczynnik kierunkowy: -2.017845544554455\n",
            "Przesunięcie: 98.80613861386138\n"
          ]
        }
      ]
    },
    {
      "cell_type": "code",
      "source": [
        "#Regresja w praktyce\n",
        "from sklearn.linear_model import LinearRegression\n",
        "import numpy as np\n",
        "\n",
        "#1 Przetasowanie wartości\n",
        "np.random.seed(42)\n",
        "shuffled_indices = np.random.permutation(len(X))\n",
        "\n",
        "# Przetasowanie X i Y zgodnie z tymi samymi indeksami\n",
        "X_shuffled = X[shuffled_indices]\n",
        "Y_shuffled = Y[shuffled_indices]\n",
        "\n",
        "#2 Usunięcie 20% wartości i zapis ich do dataframe\n",
        "split_point = int(0.8 * len(X_shuffled))\n",
        "\n",
        "X_train = X_shuffled[:split_point]\n",
        "Y_train = Y_shuffled[:split_point]\n",
        "X_removed = X_shuffled[split_point:]\n",
        "Y_removed = Y_shuffled[split_point:]\n",
        "\n",
        "df_removed = pd.DataFrame({'X': X_removed, 'Y_rzeczywiste': Y_removed})\n",
        "\n",
        "#3 Regresja liniowa na pozostałych danych\n",
        "\n",
        "model = LinearRegression()\n",
        "model.fit(X_array, Y_array)  # Trenowanie modelu\n",
        "\n",
        "a = model.coef_[0]  # Nachylenie\n",
        "b = model.intercept_  # Punkt przecięcia\n",
        "\n",
        "print(f\"Nachylenie a: {a}\")\n",
        "print(f\"Punkt przecięcia b: {b}\")\n",
        "\n",
        "#4 Przewidywanie brakujących wartości Y i zapisanie ich do dataframe\n",
        "df_removed[\"Y_prognozowane\"] = a * df_removed[\"X\"] + b\n",
        "\n",
        "#5 Wyświetl dataframe\n",
        "print(df_removed)"
      ],
      "metadata": {
        "id": "tfgK0IqGvp-8",
        "outputId": "285ed7bf-f0ff-4423-e17e-bbc4fccd07f1",
        "colab": {
          "base_uri": "https://localhost:8080/"
        }
      },
      "execution_count": null,
      "outputs": [
        {
          "output_type": "stream",
          "name": "stdout",
          "text": [
            "Nachylenie a: -2.112363636363637\n",
            "Punkt przecięcia b: 101.70909090909092\n",
            "           X  Y_rzeczywiste  Y_prognozowane\n",
            "0  16.666667      68.666667        66.50303\n",
            "1  33.333333      38.333333        31.29697\n"
          ]
        }
      ]
    }
  ]
}